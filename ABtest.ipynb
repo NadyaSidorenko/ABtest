{
 "cells": [
  {
   "cell_type": "markdown",
   "metadata": {},
   "source": [
    "## Введение"
   ]
  },
  {
   "cell_type": "markdown",
   "metadata": {},
   "source": [
    "Был подготовлен список гипотез для увеличения выручки крупного интернет-магазина. В файле hypothesis.csv содержатся 9 гипотез по увеличению выручки интернет-магазина с указанными параметрами reach, impact, confidence, effort. Был проведен А/В-тест и получены результаты, которые описаны в файлах orders.csv и visitors.csv. Цель проекта: приоритизировать гипотезы, запустить А/В тест и проанализировать результаты."
   ]
  },
  {
   "cell_type": "markdown",
   "metadata": {},
   "source": [
    "## Оглавление   \n",
    "1. [Подготовка данных](#preparation)  \n",
    "    1.1. [Открытие файла visitors.csv и подготовка данных](#open_visitors)  \n",
    "    1.2. [Открытие файла orders.csv и подготовка данных](#open_orders)  \n",
    "    1.3. [Открытие файла hypotesis.csv](#open_hypotesis)  \n",
    "2. [Часть 1. Приоретизация гипотез](#part1)   \n",
    "    2.1. [Фреймворк ICE](#ice)   \n",
    "    2.2. [Фреймворк RICE](#rice)   \n",
    "    2.3. [Выводы по Части 1](#conclusion1)  \n",
    "3. [Часть 2. Анализ А/В-теста](#part2)   \n",
    "    3.1. [График кумулятивной выручки для разных групп](#cum_rev)   \n",
    "    3.2. [График кумулятивного среднего чека по группам](#cum_check)   \n",
    "    3.3. [График относительного изменения кумулятивного среднего чека группы В к группе А](#cum_check2)   \n",
    "    3.4. [График кумулятивной конверсии по группам](#cum_conv)   \n",
    "    3.5. [График относительного изменения кумулятивной конверсии по группам](#cum_conv2)   \n",
    "    3.6. [Точечный График количества заказов по пользователям](#point_orders)   \n",
    "    3.7. [Расчет 95-й и 99-й перцентилей количества заказов на пользователя](#user95)  \n",
    "    3.8. [Построение точечного графика стоимостей заказов](#point_rev)   \n",
    "    3.9. [Вычисление 95-й и 99-й перцентилей стоимости заказов](#rev95)   \n",
    "    3.10 [Расчет статистической значимости различий в конверсии между группами по «сырым» данным](#sample)   \n",
    "    3.11. [Расчет статистической значимости различий в среднем чеке заказа между группами по «сырым» данным](#sample2)   \n",
    "    3.12. [Расчет статистической значимости различий в конверсии между группами по \"очищенным\" данным](#clean)   \n",
    "    3.13. [Расчет статистической значимости различий в среднем чеке заказа между группами по \"очищенным\" данным](#clean2)  \n",
    "    3.14. [Выводы по Части 2](#conclusion2)\n",
    "4. [Общий вывод](#conclusion)"
   ]
  },
  {
   "cell_type": "markdown",
   "metadata": {},
   "source": [
    "## Подготовка данных\n",
    "<a id=\"preparation\"></a>"
   ]
  },
  {
   "cell_type": "code",
   "execution_count": 1,
   "metadata": {},
   "outputs": [],
   "source": [
    "import pandas as pd\n",
    "from IPython.display import display\n",
    "import matplotlib.pyplot as plt\n",
    "import numpy as np\n",
    "import datetime as dt\n",
    "import scipy.stats as stats\n",
    "import seaborn as sns"
   ]
  },
  {
   "cell_type": "code",
   "execution_count": 2,
   "metadata": {},
   "outputs": [
    {
     "name": "stdout",
     "output_type": "stream",
     "text": [
      "<class 'pandas.core.frame.DataFrame'>\n",
      "RangeIndex: 62 entries, 0 to 61\n",
      "Data columns (total 3 columns):\n",
      " #   Column    Non-Null Count  Dtype \n",
      "---  ------    --------------  ----- \n",
      " 0   date      62 non-null     object\n",
      " 1   group     62 non-null     object\n",
      " 2   visitors  62 non-null     int64 \n",
      "dtypes: int64(1), object(2)\n",
      "memory usage: 1.6+ KB\n",
      "None\n"
     ]
    },
    {
     "data": {
      "text/html": [
       "<div>\n",
       "<style scoped>\n",
       "    .dataframe tbody tr th:only-of-type {\n",
       "        vertical-align: middle;\n",
       "    }\n",
       "\n",
       "    .dataframe tbody tr th {\n",
       "        vertical-align: top;\n",
       "    }\n",
       "\n",
       "    .dataframe thead th {\n",
       "        text-align: right;\n",
       "    }\n",
       "</style>\n",
       "<table border=\"1\" class=\"dataframe\">\n",
       "  <thead>\n",
       "    <tr style=\"text-align: right;\">\n",
       "      <th></th>\n",
       "      <th>date</th>\n",
       "      <th>group</th>\n",
       "      <th>visitors</th>\n",
       "    </tr>\n",
       "  </thead>\n",
       "  <tbody>\n",
       "    <tr>\n",
       "      <th>0</th>\n",
       "      <td>2019-08-01</td>\n",
       "      <td>A</td>\n",
       "      <td>719</td>\n",
       "    </tr>\n",
       "    <tr>\n",
       "      <th>1</th>\n",
       "      <td>2019-08-02</td>\n",
       "      <td>A</td>\n",
       "      <td>619</td>\n",
       "    </tr>\n",
       "    <tr>\n",
       "      <th>2</th>\n",
       "      <td>2019-08-03</td>\n",
       "      <td>A</td>\n",
       "      <td>507</td>\n",
       "    </tr>\n",
       "    <tr>\n",
       "      <th>3</th>\n",
       "      <td>2019-08-04</td>\n",
       "      <td>A</td>\n",
       "      <td>717</td>\n",
       "    </tr>\n",
       "    <tr>\n",
       "      <th>4</th>\n",
       "      <td>2019-08-05</td>\n",
       "      <td>A</td>\n",
       "      <td>756</td>\n",
       "    </tr>\n",
       "  </tbody>\n",
       "</table>\n",
       "</div>"
      ],
      "text/plain": [
       "         date group  visitors\n",
       "0  2019-08-01     A       719\n",
       "1  2019-08-02     A       619\n",
       "2  2019-08-03     A       507\n",
       "3  2019-08-04     A       717\n",
       "4  2019-08-05     A       756"
      ]
     },
     "metadata": {},
     "output_type": "display_data"
    },
    {
     "name": "stdout",
     "output_type": "stream",
     "text": [
      "Таблица содержит 0 дубликатов\n",
      "B    31\n",
      "A    31\n",
      "Name: group, dtype: int64\n",
      "<class 'pandas.core.frame.DataFrame'>\n",
      "RangeIndex: 62 entries, 0 to 61\n",
      "Data columns (total 3 columns):\n",
      " #   Column    Non-Null Count  Dtype         \n",
      "---  ------    --------------  -----         \n",
      " 0   date      62 non-null     datetime64[ns]\n",
      " 1   group     62 non-null     object        \n",
      " 2   visitors  62 non-null     int64         \n",
      "dtypes: datetime64[ns](1), int64(1), object(1)\n",
      "memory usage: 1.6+ KB\n",
      "None\n"
     ]
    }
   ],
   "source": [
    "visitors=pd.read_csv('datasets/visitors.csv')\n",
    "print(visitors.info())\n",
    "display(visitors.head())\n",
    "print(\"Таблица содержит {:.0f} дубликатов\".format(visitors.duplicated().sum()))\n",
    "print(visitors['group'].value_counts())\n",
    "visitors['date']=pd.to_datetime(visitors['date'])\n",
    "print(visitors.info())"
   ]
  },
  {
   "cell_type": "code",
   "execution_count": 3,
   "metadata": {},
   "outputs": [
    {
     "name": "stdout",
     "output_type": "stream",
     "text": [
      "<class 'pandas.core.frame.DataFrame'>\n",
      "RangeIndex: 1197 entries, 0 to 1196\n",
      "Data columns (total 5 columns):\n",
      " #   Column         Non-Null Count  Dtype \n",
      "---  ------         --------------  ----- \n",
      " 0   transactionid  1197 non-null   int64 \n",
      " 1   visitorid      1197 non-null   int64 \n",
      " 2   date           1197 non-null   object\n",
      " 3   revenue        1197 non-null   int64 \n",
      " 4   group          1197 non-null   object\n",
      "dtypes: int64(3), object(2)\n",
      "memory usage: 46.9+ KB\n",
      "None\n"
     ]
    },
    {
     "data": {
      "text/html": [
       "<div>\n",
       "<style scoped>\n",
       "    .dataframe tbody tr th:only-of-type {\n",
       "        vertical-align: middle;\n",
       "    }\n",
       "\n",
       "    .dataframe tbody tr th {\n",
       "        vertical-align: top;\n",
       "    }\n",
       "\n",
       "    .dataframe thead th {\n",
       "        text-align: right;\n",
       "    }\n",
       "</style>\n",
       "<table border=\"1\" class=\"dataframe\">\n",
       "  <thead>\n",
       "    <tr style=\"text-align: right;\">\n",
       "      <th></th>\n",
       "      <th>transactionid</th>\n",
       "      <th>visitorid</th>\n",
       "      <th>date</th>\n",
       "      <th>revenue</th>\n",
       "      <th>group</th>\n",
       "    </tr>\n",
       "  </thead>\n",
       "  <tbody>\n",
       "    <tr>\n",
       "      <th>0</th>\n",
       "      <td>3667963787</td>\n",
       "      <td>3312258926</td>\n",
       "      <td>2019-08-15</td>\n",
       "      <td>1650</td>\n",
       "      <td>B</td>\n",
       "    </tr>\n",
       "    <tr>\n",
       "      <th>1</th>\n",
       "      <td>2804400009</td>\n",
       "      <td>3642806036</td>\n",
       "      <td>2019-08-15</td>\n",
       "      <td>730</td>\n",
       "      <td>B</td>\n",
       "    </tr>\n",
       "    <tr>\n",
       "      <th>2</th>\n",
       "      <td>2961555356</td>\n",
       "      <td>4069496402</td>\n",
       "      <td>2019-08-15</td>\n",
       "      <td>400</td>\n",
       "      <td>A</td>\n",
       "    </tr>\n",
       "    <tr>\n",
       "      <th>3</th>\n",
       "      <td>3797467345</td>\n",
       "      <td>1196621759</td>\n",
       "      <td>2019-08-15</td>\n",
       "      <td>9759</td>\n",
       "      <td>B</td>\n",
       "    </tr>\n",
       "    <tr>\n",
       "      <th>4</th>\n",
       "      <td>2282983706</td>\n",
       "      <td>2322279887</td>\n",
       "      <td>2019-08-15</td>\n",
       "      <td>2308</td>\n",
       "      <td>B</td>\n",
       "    </tr>\n",
       "  </tbody>\n",
       "</table>\n",
       "</div>"
      ],
      "text/plain": [
       "   transactionid   visitorid        date  revenue group\n",
       "0     3667963787  3312258926  2019-08-15     1650     B\n",
       "1     2804400009  3642806036  2019-08-15      730     B\n",
       "2     2961555356  4069496402  2019-08-15      400     A\n",
       "3     3797467345  1196621759  2019-08-15     9759     B\n",
       "4     2282983706  2322279887  2019-08-15     2308     B"
      ]
     },
     "metadata": {},
     "output_type": "display_data"
    },
    {
     "name": "stdout",
     "output_type": "stream",
     "text": [
      "Таблица содержит 0 дубликатов\n",
      "B    640\n",
      "A    557\n",
      "Name: group, dtype: int64\n",
      "<class 'pandas.core.frame.DataFrame'>\n",
      "RangeIndex: 1197 entries, 0 to 1196\n",
      "Data columns (total 5 columns):\n",
      " #   Column         Non-Null Count  Dtype         \n",
      "---  ------         --------------  -----         \n",
      " 0   transactionid  1197 non-null   int64         \n",
      " 1   visitorid      1197 non-null   int64         \n",
      " 2   date           1197 non-null   datetime64[ns]\n",
      " 3   revenue        1197 non-null   int64         \n",
      " 4   group          1197 non-null   object        \n",
      "dtypes: datetime64[ns](1), int64(3), object(1)\n",
      "memory usage: 46.9+ KB\n"
     ]
    }
   ],
   "source": [
    "orders=pd.read_csv('datasets/orders.csv ')\n",
    "orders.columns = orders.columns.str.lower()\n",
    "print(orders.info())\n",
    "display(orders.head())\n",
    "print(\"Таблица содержит {:.0f} дубликатов\".format(orders.duplicated().sum()))\n",
    "print(orders['group'].value_counts())\n",
    "orders['date']=pd.to_datetime(orders['date'])\n",
    "orders.info()"
   ]
  },
  {
   "cell_type": "code",
   "execution_count": 4,
   "metadata": {
    "scrolled": false
   },
   "outputs": [
    {
     "name": "stdout",
     "output_type": "stream",
     "text": [
      "<class 'pandas.core.frame.DataFrame'>\n",
      "RangeIndex: 9 entries, 0 to 8\n",
      "Data columns (total 5 columns):\n",
      " #   Column      Non-Null Count  Dtype \n",
      "---  ------      --------------  ----- \n",
      " 0   Hypothesis  9 non-null      object\n",
      " 1   Reach       9 non-null      int64 \n",
      " 2   Impact      9 non-null      int64 \n",
      " 3   Confidence  9 non-null      int64 \n",
      " 4   Efforts     9 non-null      int64 \n",
      "dtypes: int64(4), object(1)\n",
      "memory usage: 488.0+ bytes\n",
      "None\n"
     ]
    },
    {
     "data": {
      "text/html": [
       "<div>\n",
       "<style scoped>\n",
       "    .dataframe tbody tr th:only-of-type {\n",
       "        vertical-align: middle;\n",
       "    }\n",
       "\n",
       "    .dataframe tbody tr th {\n",
       "        vertical-align: top;\n",
       "    }\n",
       "\n",
       "    .dataframe thead th {\n",
       "        text-align: right;\n",
       "    }\n",
       "</style>\n",
       "<table border=\"1\" class=\"dataframe\">\n",
       "  <thead>\n",
       "    <tr style=\"text-align: right;\">\n",
       "      <th></th>\n",
       "      <th>Hypothesis</th>\n",
       "      <th>Reach</th>\n",
       "      <th>Impact</th>\n",
       "      <th>Confidence</th>\n",
       "      <th>Efforts</th>\n",
       "    </tr>\n",
       "  </thead>\n",
       "  <tbody>\n",
       "    <tr>\n",
       "      <th>0</th>\n",
       "      <td>Добавить два новых канала привлечения трафика,...</td>\n",
       "      <td>3</td>\n",
       "      <td>10</td>\n",
       "      <td>8</td>\n",
       "      <td>6</td>\n",
       "    </tr>\n",
       "    <tr>\n",
       "      <th>1</th>\n",
       "      <td>Запустить собственную службу доставки, что сок...</td>\n",
       "      <td>2</td>\n",
       "      <td>5</td>\n",
       "      <td>4</td>\n",
       "      <td>10</td>\n",
       "    </tr>\n",
       "    <tr>\n",
       "      <th>2</th>\n",
       "      <td>Добавить блоки рекомендаций товаров на сайт ин...</td>\n",
       "      <td>8</td>\n",
       "      <td>3</td>\n",
       "      <td>7</td>\n",
       "      <td>3</td>\n",
       "    </tr>\n",
       "    <tr>\n",
       "      <th>3</th>\n",
       "      <td>Изменить структура категорий, что увеличит кон...</td>\n",
       "      <td>8</td>\n",
       "      <td>3</td>\n",
       "      <td>3</td>\n",
       "      <td>8</td>\n",
       "    </tr>\n",
       "    <tr>\n",
       "      <th>4</th>\n",
       "      <td>Изменить цвет фона главной страницы, чтобы уве...</td>\n",
       "      <td>3</td>\n",
       "      <td>1</td>\n",
       "      <td>1</td>\n",
       "      <td>1</td>\n",
       "    </tr>\n",
       "  </tbody>\n",
       "</table>\n",
       "</div>"
      ],
      "text/plain": [
       "                                          Hypothesis  Reach  Impact  \\\n",
       "0  Добавить два новых канала привлечения трафика,...      3      10   \n",
       "1  Запустить собственную службу доставки, что сок...      2       5   \n",
       "2  Добавить блоки рекомендаций товаров на сайт ин...      8       3   \n",
       "3  Изменить структура категорий, что увеличит кон...      8       3   \n",
       "4  Изменить цвет фона главной страницы, чтобы уве...      3       1   \n",
       "\n",
       "   Confidence  Efforts  \n",
       "0           8        6  \n",
       "1           4       10  \n",
       "2           7        3  \n",
       "3           3        8  \n",
       "4           1        1  "
      ]
     },
     "metadata": {},
     "output_type": "display_data"
    },
    {
     "name": "stdout",
     "output_type": "stream",
     "text": [
      "Таблица содержит 0 дубликатов\n"
     ]
    },
    {
     "data": {
      "text/plain": [
       "array(['Добавить два новых канала привлечения трафика, что позволит привлекать на 30% больше пользователей',\n",
       "       'Запустить собственную службу доставки, что сократит срок доставки заказов',\n",
       "       'Добавить блоки рекомендаций товаров на сайт интернет магазина, чтобы повысить конверсию и средний чек заказа',\n",
       "       'Изменить структура категорий, что увеличит конверсию, т.к. пользователи быстрее найдут нужный товар',\n",
       "       'Изменить цвет фона главной страницы, чтобы увеличить вовлеченность пользователей',\n",
       "       'Добавить страницу отзывов клиентов о магазине, что позволит увеличить количество заказов',\n",
       "       'Показать на главной странице баннеры с актуальными акциями и распродажами, чтобы увеличить конверсию',\n",
       "       'Добавить форму подписки на все основные страницы, чтобы собрать базу клиентов для email-рассылок',\n",
       "       'Запустить акцию, дающую скидку на товар в день рождения'],\n",
       "      dtype=object)"
      ]
     },
     "metadata": {},
     "output_type": "display_data"
    },
    {
     "data": {
      "text/html": [
       "<div>\n",
       "<style scoped>\n",
       "    .dataframe tbody tr th:only-of-type {\n",
       "        vertical-align: middle;\n",
       "    }\n",
       "\n",
       "    .dataframe tbody tr th {\n",
       "        vertical-align: top;\n",
       "    }\n",
       "\n",
       "    .dataframe thead th {\n",
       "        text-align: right;\n",
       "    }\n",
       "</style>\n",
       "<table border=\"1\" class=\"dataframe\">\n",
       "  <thead>\n",
       "    <tr style=\"text-align: right;\">\n",
       "      <th></th>\n",
       "      <th>hypothesis</th>\n",
       "      <th>reach</th>\n",
       "      <th>impact</th>\n",
       "      <th>confidence</th>\n",
       "      <th>efforts</th>\n",
       "    </tr>\n",
       "  </thead>\n",
       "  <tbody>\n",
       "    <tr>\n",
       "      <th>0</th>\n",
       "      <td>Добавить два новых канала привлечения трафика,...</td>\n",
       "      <td>3</td>\n",
       "      <td>10</td>\n",
       "      <td>8</td>\n",
       "      <td>6</td>\n",
       "    </tr>\n",
       "    <tr>\n",
       "      <th>1</th>\n",
       "      <td>Запустить собственную службу доставки, что сок...</td>\n",
       "      <td>2</td>\n",
       "      <td>5</td>\n",
       "      <td>4</td>\n",
       "      <td>10</td>\n",
       "    </tr>\n",
       "    <tr>\n",
       "      <th>2</th>\n",
       "      <td>Добавить блоки рекомендаций товаров на сайт ин...</td>\n",
       "      <td>8</td>\n",
       "      <td>3</td>\n",
       "      <td>7</td>\n",
       "      <td>3</td>\n",
       "    </tr>\n",
       "    <tr>\n",
       "      <th>3</th>\n",
       "      <td>Изменить структура категорий, что увеличит кон...</td>\n",
       "      <td>8</td>\n",
       "      <td>3</td>\n",
       "      <td>3</td>\n",
       "      <td>8</td>\n",
       "    </tr>\n",
       "    <tr>\n",
       "      <th>4</th>\n",
       "      <td>Изменить цвет фона главной страницы, чтобы уве...</td>\n",
       "      <td>3</td>\n",
       "      <td>1</td>\n",
       "      <td>1</td>\n",
       "      <td>1</td>\n",
       "    </tr>\n",
       "    <tr>\n",
       "      <th>5</th>\n",
       "      <td>Добавить страницу отзывов клиентов о магазине,...</td>\n",
       "      <td>3</td>\n",
       "      <td>2</td>\n",
       "      <td>2</td>\n",
       "      <td>3</td>\n",
       "    </tr>\n",
       "    <tr>\n",
       "      <th>6</th>\n",
       "      <td>Показать на главной странице баннеры с актуаль...</td>\n",
       "      <td>5</td>\n",
       "      <td>3</td>\n",
       "      <td>8</td>\n",
       "      <td>3</td>\n",
       "    </tr>\n",
       "    <tr>\n",
       "      <th>7</th>\n",
       "      <td>Добавить форму подписки на все основные страни...</td>\n",
       "      <td>10</td>\n",
       "      <td>7</td>\n",
       "      <td>8</td>\n",
       "      <td>5</td>\n",
       "    </tr>\n",
       "    <tr>\n",
       "      <th>8</th>\n",
       "      <td>Запустить акцию, дающую скидку на товар в день...</td>\n",
       "      <td>1</td>\n",
       "      <td>9</td>\n",
       "      <td>9</td>\n",
       "      <td>5</td>\n",
       "    </tr>\n",
       "  </tbody>\n",
       "</table>\n",
       "</div>"
      ],
      "text/plain": [
       "                                          hypothesis  reach  impact  \\\n",
       "0  Добавить два новых канала привлечения трафика,...      3      10   \n",
       "1  Запустить собственную службу доставки, что сок...      2       5   \n",
       "2  Добавить блоки рекомендаций товаров на сайт ин...      8       3   \n",
       "3  Изменить структура категорий, что увеличит кон...      8       3   \n",
       "4  Изменить цвет фона главной страницы, чтобы уве...      3       1   \n",
       "5  Добавить страницу отзывов клиентов о магазине,...      3       2   \n",
       "6  Показать на главной странице баннеры с актуаль...      5       3   \n",
       "7  Добавить форму подписки на все основные страни...     10       7   \n",
       "8  Запустить акцию, дающую скидку на товар в день...      1       9   \n",
       "\n",
       "   confidence  efforts  \n",
       "0           8        6  \n",
       "1           4       10  \n",
       "2           7        3  \n",
       "3           3        8  \n",
       "4           1        1  \n",
       "5           2        3  \n",
       "6           8        3  \n",
       "7           8        5  \n",
       "8           9        5  "
      ]
     },
     "metadata": {},
     "output_type": "display_data"
    }
   ],
   "source": [
    "hypothesis=pd.read_csv('datasets/hypothesis.csv ')\n",
    "print(hypothesis.info())\n",
    "display(hypothesis.head())\n",
    "print(\"Таблица содержит {:.0f} дубликатов\".format(hypothesis.duplicated().sum()))\n",
    "hypothesis.columns = hypothesis.columns.str.lower()\n",
    "display(hypothesis['hypothesis'].unique())\n",
    "display(hypothesis)"
   ]
  },
  {
   "cell_type": "markdown",
   "metadata": {},
   "source": [
    "Таблицы данных были открыты и подготовлены к анализу. Пропущенных значений и дубликатов не обнаружено. Для удобства обращения заглавные буквы в именах столбцов были изменены на строчные. Так же были изменены типы некоторых столбцов ( в таблице visitors - столбцы, содержание дату, в таблице orders - столбец, содержащий информацию о дате заказа) на тип datetime."
   ]
  },
  {
   "cell_type": "markdown",
   "metadata": {},
   "source": [
    "## Часть1. Приоретизация гипотез <a id='part1'></a>"
   ]
  },
  {
   "cell_type": "markdown",
   "metadata": {},
   "source": [
    "#### Фреймворк ICE <a id='ice'></a>"
   ]
  },
  {
   "cell_type": "code",
   "execution_count": 5,
   "metadata": {},
   "outputs": [
    {
     "data": {
      "text/html": [
       "<div>\n",
       "<style scoped>\n",
       "    .dataframe tbody tr th:only-of-type {\n",
       "        vertical-align: middle;\n",
       "    }\n",
       "\n",
       "    .dataframe tbody tr th {\n",
       "        vertical-align: top;\n",
       "    }\n",
       "\n",
       "    .dataframe thead th {\n",
       "        text-align: right;\n",
       "    }\n",
       "</style>\n",
       "<table border=\"1\" class=\"dataframe\">\n",
       "  <thead>\n",
       "    <tr style=\"text-align: right;\">\n",
       "      <th></th>\n",
       "      <th>hypothesis</th>\n",
       "      <th>reach</th>\n",
       "      <th>impact</th>\n",
       "      <th>confidence</th>\n",
       "      <th>efforts</th>\n",
       "      <th>ice</th>\n",
       "    </tr>\n",
       "  </thead>\n",
       "  <tbody>\n",
       "    <tr>\n",
       "      <th>8</th>\n",
       "      <td>Запустить акцию, дающую скидку на товар в день...</td>\n",
       "      <td>1</td>\n",
       "      <td>9</td>\n",
       "      <td>9</td>\n",
       "      <td>5</td>\n",
       "      <td>16.0</td>\n",
       "    </tr>\n",
       "    <tr>\n",
       "      <th>0</th>\n",
       "      <td>Добавить два новых канала привлечения трафика,...</td>\n",
       "      <td>3</td>\n",
       "      <td>10</td>\n",
       "      <td>8</td>\n",
       "      <td>6</td>\n",
       "      <td>13.0</td>\n",
       "    </tr>\n",
       "    <tr>\n",
       "      <th>7</th>\n",
       "      <td>Добавить форму подписки на все основные страни...</td>\n",
       "      <td>10</td>\n",
       "      <td>7</td>\n",
       "      <td>8</td>\n",
       "      <td>5</td>\n",
       "      <td>11.0</td>\n",
       "    </tr>\n",
       "    <tr>\n",
       "      <th>6</th>\n",
       "      <td>Показать на главной странице баннеры с актуаль...</td>\n",
       "      <td>5</td>\n",
       "      <td>3</td>\n",
       "      <td>8</td>\n",
       "      <td>3</td>\n",
       "      <td>8.0</td>\n",
       "    </tr>\n",
       "    <tr>\n",
       "      <th>2</th>\n",
       "      <td>Добавить блоки рекомендаций товаров на сайт ин...</td>\n",
       "      <td>8</td>\n",
       "      <td>3</td>\n",
       "      <td>7</td>\n",
       "      <td>3</td>\n",
       "      <td>7.0</td>\n",
       "    </tr>\n",
       "    <tr>\n",
       "      <th>1</th>\n",
       "      <td>Запустить собственную службу доставки, что сок...</td>\n",
       "      <td>2</td>\n",
       "      <td>5</td>\n",
       "      <td>4</td>\n",
       "      <td>10</td>\n",
       "      <td>2.0</td>\n",
       "    </tr>\n",
       "    <tr>\n",
       "      <th>3</th>\n",
       "      <td>Изменить структура категорий, что увеличит кон...</td>\n",
       "      <td>8</td>\n",
       "      <td>3</td>\n",
       "      <td>3</td>\n",
       "      <td>8</td>\n",
       "      <td>1.0</td>\n",
       "    </tr>\n",
       "    <tr>\n",
       "      <th>4</th>\n",
       "      <td>Изменить цвет фона главной страницы, чтобы уве...</td>\n",
       "      <td>3</td>\n",
       "      <td>1</td>\n",
       "      <td>1</td>\n",
       "      <td>1</td>\n",
       "      <td>1.0</td>\n",
       "    </tr>\n",
       "    <tr>\n",
       "      <th>5</th>\n",
       "      <td>Добавить страницу отзывов клиентов о магазине,...</td>\n",
       "      <td>3</td>\n",
       "      <td>2</td>\n",
       "      <td>2</td>\n",
       "      <td>3</td>\n",
       "      <td>1.0</td>\n",
       "    </tr>\n",
       "  </tbody>\n",
       "</table>\n",
       "</div>"
      ],
      "text/plain": [
       "                                          hypothesis  reach  impact  \\\n",
       "8  Запустить акцию, дающую скидку на товар в день...      1       9   \n",
       "0  Добавить два новых канала привлечения трафика,...      3      10   \n",
       "7  Добавить форму подписки на все основные страни...     10       7   \n",
       "6  Показать на главной странице баннеры с актуаль...      5       3   \n",
       "2  Добавить блоки рекомендаций товаров на сайт ин...      8       3   \n",
       "1  Запустить собственную службу доставки, что сок...      2       5   \n",
       "3  Изменить структура категорий, что увеличит кон...      8       3   \n",
       "4  Изменить цвет фона главной страницы, чтобы уве...      3       1   \n",
       "5  Добавить страницу отзывов клиентов о магазине,...      3       2   \n",
       "\n",
       "   confidence  efforts   ice  \n",
       "8           9        5  16.0  \n",
       "0           8        6  13.0  \n",
       "7           8        5  11.0  \n",
       "6           8        3   8.0  \n",
       "2           7        3   7.0  \n",
       "1           4       10   2.0  \n",
       "3           3        8   1.0  \n",
       "4           1        1   1.0  \n",
       "5           2        3   1.0  "
      ]
     },
     "metadata": {},
     "output_type": "display_data"
    },
    {
     "data": {
      "text/plain": [
       "None"
      ]
     },
     "metadata": {},
     "output_type": "display_data"
    }
   ],
   "source": [
    "hypothesis['ice']=((hypothesis['impact']*hypothesis['confidence'])/hypothesis['efforts']).round()\n",
    "display(hypothesis.sort_values(by='ice',ascending=False), pd.set_option('display.max_columns', None))\n",
    "pd.options.display.max_colwidth = 150"
   ]
  },
  {
   "cell_type": "markdown",
   "metadata": {},
   "source": [
    "####  Фреймворк RICE <a id='rice'></a>"
   ]
  },
  {
   "cell_type": "code",
   "execution_count": 6,
   "metadata": {},
   "outputs": [
    {
     "data": {
      "text/html": [
       "<style  type=\"text/css\" >\n",
       "    #T_507993a2_3154_11eb_a355_d05099577cf8row0_col1 {\n",
       "            background-color:  #008000;\n",
       "            color:  #f1f1f1;\n",
       "        }    #T_507993a2_3154_11eb_a355_d05099577cf8row0_col2 {\n",
       "            background-color:  #4daa4d;\n",
       "            color:  #000000;\n",
       "        }    #T_507993a2_3154_11eb_a355_d05099577cf8row0_col3 {\n",
       "            background-color:  #1c8f1c;\n",
       "            color:  #000000;\n",
       "        }    #T_507993a2_3154_11eb_a355_d05099577cf8row0_col4 {\n",
       "            background-color:  #80c780;\n",
       "            color:  #000000;\n",
       "        }    #T_507993a2_3154_11eb_a355_d05099577cf8row0_col5 {\n",
       "            background-color:  #4daa4d;\n",
       "            color:  #000000;\n",
       "        }    #T_507993a2_3154_11eb_a355_d05099577cf8row0_col6 {\n",
       "            background-color:  #008000;\n",
       "            color:  #f1f1f1;\n",
       "        }    #T_507993a2_3154_11eb_a355_d05099577cf8row1_col1 {\n",
       "            background-color:  #329c32;\n",
       "            color:  #000000;\n",
       "        }    #T_507993a2_3154_11eb_a355_d05099577cf8row1_col2 {\n",
       "            background-color:  #b3e3b3;\n",
       "            color:  #000000;\n",
       "        }    #T_507993a2_3154_11eb_a355_d05099577cf8row1_col3 {\n",
       "            background-color:  #399f39;\n",
       "            color:  #000000;\n",
       "        }    #T_507993a2_3154_11eb_a355_d05099577cf8row1_col4 {\n",
       "            background-color:  #b3e3b3;\n",
       "            color:  #000000;\n",
       "        }    #T_507993a2_3154_11eb_a355_d05099577cf8row1_col5 {\n",
       "            background-color:  #8acc8a;\n",
       "            color:  #000000;\n",
       "        }    #T_507993a2_3154_11eb_a355_d05099577cf8row1_col6 {\n",
       "            background-color:  #76c176;\n",
       "            color:  #000000;\n",
       "        }    #T_507993a2_3154_11eb_a355_d05099577cf8row2_col1 {\n",
       "            background-color:  #b3e3b3;\n",
       "            color:  #000000;\n",
       "        }    #T_507993a2_3154_11eb_a355_d05099577cf8row2_col2 {\n",
       "            background-color:  #008000;\n",
       "            color:  #f1f1f1;\n",
       "        }    #T_507993a2_3154_11eb_a355_d05099577cf8row2_col3 {\n",
       "            background-color:  #1c8f1c;\n",
       "            color:  #000000;\n",
       "        }    #T_507993a2_3154_11eb_a355_d05099577cf8row2_col4 {\n",
       "            background-color:  #66b866;\n",
       "            color:  #000000;\n",
       "        }    #T_507993a2_3154_11eb_a355_d05099577cf8row2_col5 {\n",
       "            background-color:  #2e992e;\n",
       "            color:  #000000;\n",
       "        }    #T_507993a2_3154_11eb_a355_d05099577cf8row2_col6 {\n",
       "            background-color:  #98d498;\n",
       "            color:  #000000;\n",
       "        }    #T_507993a2_3154_11eb_a355_d05099577cf8row3_col1 {\n",
       "            background-color:  #80c780;\n",
       "            color:  #000000;\n",
       "        }    #T_507993a2_3154_11eb_a355_d05099577cf8row3_col2 {\n",
       "            background-color:  #b3e3b3;\n",
       "            color:  #000000;\n",
       "        }    #T_507993a2_3154_11eb_a355_d05099577cf8row3_col3 {\n",
       "            background-color:  #1c8f1c;\n",
       "            color:  #000000;\n",
       "        }    #T_507993a2_3154_11eb_a355_d05099577cf8row3_col4 {\n",
       "            background-color:  #b3e3b3;\n",
       "            color:  #000000;\n",
       "        }    #T_507993a2_3154_11eb_a355_d05099577cf8row3_col5 {\n",
       "            background-color:  #7ac47a;\n",
       "            color:  #000000;\n",
       "        }    #T_507993a2_3154_11eb_a355_d05099577cf8row3_col6 {\n",
       "            background-color:  #98d498;\n",
       "            color:  #000000;\n",
       "        }    #T_507993a2_3154_11eb_a355_d05099577cf8row4_col1 {\n",
       "            background-color:  #e5ffe5;\n",
       "            color:  #000000;\n",
       "        }    #T_507993a2_3154_11eb_a355_d05099577cf8row4_col2 {\n",
       "            background-color:  #198e19;\n",
       "            color:  #000000;\n",
       "        }    #T_507993a2_3154_11eb_a355_d05099577cf8row4_col3 {\n",
       "            background-color:  #008000;\n",
       "            color:  #f1f1f1;\n",
       "        }    #T_507993a2_3154_11eb_a355_d05099577cf8row4_col4 {\n",
       "            background-color:  #80c780;\n",
       "            color:  #000000;\n",
       "        }    #T_507993a2_3154_11eb_a355_d05099577cf8row4_col5 {\n",
       "            background-color:  #008000;\n",
       "            color:  #f1f1f1;\n",
       "        }    #T_507993a2_3154_11eb_a355_d05099577cf8row4_col6 {\n",
       "            background-color:  #caf0ca;\n",
       "            color:  #000000;\n",
       "        }    #T_507993a2_3154_11eb_a355_d05099577cf8row5_col1 {\n",
       "            background-color:  #329c32;\n",
       "            color:  #000000;\n",
       "        }    #T_507993a2_3154_11eb_a355_d05099577cf8row5_col2 {\n",
       "            background-color:  #b3e3b3;\n",
       "            color:  #000000;\n",
       "        }    #T_507993a2_3154_11eb_a355_d05099577cf8row5_col3 {\n",
       "            background-color:  #acdfac;\n",
       "            color:  #000000;\n",
       "        }    #T_507993a2_3154_11eb_a355_d05099577cf8row5_col4 {\n",
       "            background-color:  #329c32;\n",
       "            color:  #000000;\n",
       "        }    #T_507993a2_3154_11eb_a355_d05099577cf8row5_col5 {\n",
       "            background-color:  #e5ffe5;\n",
       "            color:  #000000;\n",
       "        }    #T_507993a2_3154_11eb_a355_d05099577cf8row5_col6 {\n",
       "            background-color:  #d9f8d9;\n",
       "            color:  #000000;\n",
       "        }    #T_507993a2_3154_11eb_a355_d05099577cf8row6_col1 {\n",
       "            background-color:  #ccf1cc;\n",
       "            color:  #000000;\n",
       "        }    #T_507993a2_3154_11eb_a355_d05099577cf8row6_col2 {\n",
       "            background-color:  #80c780;\n",
       "            color:  #000000;\n",
       "        }    #T_507993a2_3154_11eb_a355_d05099577cf8row6_col3 {\n",
       "            background-color:  #8fcf8f;\n",
       "            color:  #000000;\n",
       "        }    #T_507993a2_3154_11eb_a355_d05099577cf8row6_col4 {\n",
       "            background-color:  #008000;\n",
       "            color:  #f1f1f1;\n",
       "        }    #T_507993a2_3154_11eb_a355_d05099577cf8row6_col5 {\n",
       "            background-color:  #d6f7d6;\n",
       "            color:  #000000;\n",
       "        }    #T_507993a2_3154_11eb_a355_d05099577cf8row6_col6 {\n",
       "            background-color:  #e4fee4;\n",
       "            color:  #000000;\n",
       "        }    #T_507993a2_3154_11eb_a355_d05099577cf8row7_col1 {\n",
       "            background-color:  #b3e3b3;\n",
       "            color:  #000000;\n",
       "        }    #T_507993a2_3154_11eb_a355_d05099577cf8row7_col2 {\n",
       "            background-color:  #ccf1cc;\n",
       "            color:  #000000;\n",
       "        }    #T_507993a2_3154_11eb_a355_d05099577cf8row7_col3 {\n",
       "            background-color:  #c9efc9;\n",
       "            color:  #000000;\n",
       "        }    #T_507993a2_3154_11eb_a355_d05099577cf8row7_col4 {\n",
       "            background-color:  #b3e3b3;\n",
       "            color:  #000000;\n",
       "        }    #T_507993a2_3154_11eb_a355_d05099577cf8row7_col5 {\n",
       "            background-color:  #e5ffe5;\n",
       "            color:  #000000;\n",
       "        }    #T_507993a2_3154_11eb_a355_d05099577cf8row7_col6 {\n",
       "            background-color:  #e4fee4;\n",
       "            color:  #000000;\n",
       "        }    #T_507993a2_3154_11eb_a355_d05099577cf8row8_col1 {\n",
       "            background-color:  #b3e3b3;\n",
       "            color:  #000000;\n",
       "        }    #T_507993a2_3154_11eb_a355_d05099577cf8row8_col2 {\n",
       "            background-color:  #e5ffe5;\n",
       "            color:  #000000;\n",
       "        }    #T_507993a2_3154_11eb_a355_d05099577cf8row8_col3 {\n",
       "            background-color:  #e5ffe5;\n",
       "            color:  #000000;\n",
       "        }    #T_507993a2_3154_11eb_a355_d05099577cf8row8_col4 {\n",
       "            background-color:  #e5ffe5;\n",
       "            color:  #000000;\n",
       "        }    #T_507993a2_3154_11eb_a355_d05099577cf8row8_col5 {\n",
       "            background-color:  #e5ffe5;\n",
       "            color:  #000000;\n",
       "        }    #T_507993a2_3154_11eb_a355_d05099577cf8row8_col6 {\n",
       "            background-color:  #e5ffe5;\n",
       "            color:  #000000;\n",
       "        }</style><table id=\"T_507993a2_3154_11eb_a355_d05099577cf8\" ><thead>    <tr>        <th class=\"blank level0\" ></th>        <th class=\"col_heading level0 col0\" >hypothesis</th>        <th class=\"col_heading level0 col1\" >reach</th>        <th class=\"col_heading level0 col2\" >impact</th>        <th class=\"col_heading level0 col3\" >confidence</th>        <th class=\"col_heading level0 col4\" >efforts</th>        <th class=\"col_heading level0 col5\" >ice</th>        <th class=\"col_heading level0 col6\" >rice</th>    </tr></thead><tbody>\n",
       "                <tr>\n",
       "                        <th id=\"T_507993a2_3154_11eb_a355_d05099577cf8level0_row0\" class=\"row_heading level0 row0\" >7</th>\n",
       "                        <td id=\"T_507993a2_3154_11eb_a355_d05099577cf8row0_col0\" class=\"data row0 col0\" >Добавить форму подписки на все основные страницы, чтобы собрать базу клиентов для email-рассылок</td>\n",
       "                        <td id=\"T_507993a2_3154_11eb_a355_d05099577cf8row0_col1\" class=\"data row0 col1\" >10</td>\n",
       "                        <td id=\"T_507993a2_3154_11eb_a355_d05099577cf8row0_col2\" class=\"data row0 col2\" >7</td>\n",
       "                        <td id=\"T_507993a2_3154_11eb_a355_d05099577cf8row0_col3\" class=\"data row0 col3\" >8</td>\n",
       "                        <td id=\"T_507993a2_3154_11eb_a355_d05099577cf8row0_col4\" class=\"data row0 col4\" >5</td>\n",
       "                        <td id=\"T_507993a2_3154_11eb_a355_d05099577cf8row0_col5\" class=\"data row0 col5\" >11</td>\n",
       "                        <td id=\"T_507993a2_3154_11eb_a355_d05099577cf8row0_col6\" class=\"data row0 col6\" >112</td>\n",
       "            </tr>\n",
       "            <tr>\n",
       "                        <th id=\"T_507993a2_3154_11eb_a355_d05099577cf8level0_row1\" class=\"row_heading level0 row1\" >2</th>\n",
       "                        <td id=\"T_507993a2_3154_11eb_a355_d05099577cf8row1_col0\" class=\"data row1 col0\" >Добавить блоки рекомендаций товаров на сайт интернет магазина, чтобы повысить конверсию и средний чек заказа</td>\n",
       "                        <td id=\"T_507993a2_3154_11eb_a355_d05099577cf8row1_col1\" class=\"data row1 col1\" >8</td>\n",
       "                        <td id=\"T_507993a2_3154_11eb_a355_d05099577cf8row1_col2\" class=\"data row1 col2\" >3</td>\n",
       "                        <td id=\"T_507993a2_3154_11eb_a355_d05099577cf8row1_col3\" class=\"data row1 col3\" >7</td>\n",
       "                        <td id=\"T_507993a2_3154_11eb_a355_d05099577cf8row1_col4\" class=\"data row1 col4\" >3</td>\n",
       "                        <td id=\"T_507993a2_3154_11eb_a355_d05099577cf8row1_col5\" class=\"data row1 col5\" >7</td>\n",
       "                        <td id=\"T_507993a2_3154_11eb_a355_d05099577cf8row1_col6\" class=\"data row1 col6\" >56</td>\n",
       "            </tr>\n",
       "            <tr>\n",
       "                        <th id=\"T_507993a2_3154_11eb_a355_d05099577cf8level0_row2\" class=\"row_heading level0 row2\" >0</th>\n",
       "                        <td id=\"T_507993a2_3154_11eb_a355_d05099577cf8row2_col0\" class=\"data row2 col0\" >Добавить два новых канала привлечения трафика, что позволит привлекать на 30% больше пользователей</td>\n",
       "                        <td id=\"T_507993a2_3154_11eb_a355_d05099577cf8row2_col1\" class=\"data row2 col1\" >3</td>\n",
       "                        <td id=\"T_507993a2_3154_11eb_a355_d05099577cf8row2_col2\" class=\"data row2 col2\" >10</td>\n",
       "                        <td id=\"T_507993a2_3154_11eb_a355_d05099577cf8row2_col3\" class=\"data row2 col3\" >8</td>\n",
       "                        <td id=\"T_507993a2_3154_11eb_a355_d05099577cf8row2_col4\" class=\"data row2 col4\" >6</td>\n",
       "                        <td id=\"T_507993a2_3154_11eb_a355_d05099577cf8row2_col5\" class=\"data row2 col5\" >13</td>\n",
       "                        <td id=\"T_507993a2_3154_11eb_a355_d05099577cf8row2_col6\" class=\"data row2 col6\" >40</td>\n",
       "            </tr>\n",
       "            <tr>\n",
       "                        <th id=\"T_507993a2_3154_11eb_a355_d05099577cf8level0_row3\" class=\"row_heading level0 row3\" >6</th>\n",
       "                        <td id=\"T_507993a2_3154_11eb_a355_d05099577cf8row3_col0\" class=\"data row3 col0\" >Показать на главной странице баннеры с актуальными акциями и распродажами, чтобы увеличить конверсию</td>\n",
       "                        <td id=\"T_507993a2_3154_11eb_a355_d05099577cf8row3_col1\" class=\"data row3 col1\" >5</td>\n",
       "                        <td id=\"T_507993a2_3154_11eb_a355_d05099577cf8row3_col2\" class=\"data row3 col2\" >3</td>\n",
       "                        <td id=\"T_507993a2_3154_11eb_a355_d05099577cf8row3_col3\" class=\"data row3 col3\" >8</td>\n",
       "                        <td id=\"T_507993a2_3154_11eb_a355_d05099577cf8row3_col4\" class=\"data row3 col4\" >3</td>\n",
       "                        <td id=\"T_507993a2_3154_11eb_a355_d05099577cf8row3_col5\" class=\"data row3 col5\" >8</td>\n",
       "                        <td id=\"T_507993a2_3154_11eb_a355_d05099577cf8row3_col6\" class=\"data row3 col6\" >40</td>\n",
       "            </tr>\n",
       "            <tr>\n",
       "                        <th id=\"T_507993a2_3154_11eb_a355_d05099577cf8level0_row4\" class=\"row_heading level0 row4\" >8</th>\n",
       "                        <td id=\"T_507993a2_3154_11eb_a355_d05099577cf8row4_col0\" class=\"data row4 col0\" >Запустить акцию, дающую скидку на товар в день рождения</td>\n",
       "                        <td id=\"T_507993a2_3154_11eb_a355_d05099577cf8row4_col1\" class=\"data row4 col1\" >1</td>\n",
       "                        <td id=\"T_507993a2_3154_11eb_a355_d05099577cf8row4_col2\" class=\"data row4 col2\" >9</td>\n",
       "                        <td id=\"T_507993a2_3154_11eb_a355_d05099577cf8row4_col3\" class=\"data row4 col3\" >9</td>\n",
       "                        <td id=\"T_507993a2_3154_11eb_a355_d05099577cf8row4_col4\" class=\"data row4 col4\" >5</td>\n",
       "                        <td id=\"T_507993a2_3154_11eb_a355_d05099577cf8row4_col5\" class=\"data row4 col5\" >16</td>\n",
       "                        <td id=\"T_507993a2_3154_11eb_a355_d05099577cf8row4_col6\" class=\"data row4 col6\" >16</td>\n",
       "            </tr>\n",
       "            <tr>\n",
       "                        <th id=\"T_507993a2_3154_11eb_a355_d05099577cf8level0_row5\" class=\"row_heading level0 row5\" >3</th>\n",
       "                        <td id=\"T_507993a2_3154_11eb_a355_d05099577cf8row5_col0\" class=\"data row5 col0\" >Изменить структура категорий, что увеличит конверсию, т.к. пользователи быстрее найдут нужный товар</td>\n",
       "                        <td id=\"T_507993a2_3154_11eb_a355_d05099577cf8row5_col1\" class=\"data row5 col1\" >8</td>\n",
       "                        <td id=\"T_507993a2_3154_11eb_a355_d05099577cf8row5_col2\" class=\"data row5 col2\" >3</td>\n",
       "                        <td id=\"T_507993a2_3154_11eb_a355_d05099577cf8row5_col3\" class=\"data row5 col3\" >3</td>\n",
       "                        <td id=\"T_507993a2_3154_11eb_a355_d05099577cf8row5_col4\" class=\"data row5 col4\" >8</td>\n",
       "                        <td id=\"T_507993a2_3154_11eb_a355_d05099577cf8row5_col5\" class=\"data row5 col5\" >1</td>\n",
       "                        <td id=\"T_507993a2_3154_11eb_a355_d05099577cf8row5_col6\" class=\"data row5 col6\" >9</td>\n",
       "            </tr>\n",
       "            <tr>\n",
       "                        <th id=\"T_507993a2_3154_11eb_a355_d05099577cf8level0_row6\" class=\"row_heading level0 row6\" >1</th>\n",
       "                        <td id=\"T_507993a2_3154_11eb_a355_d05099577cf8row6_col0\" class=\"data row6 col0\" >Запустить собственную службу доставки, что сократит срок доставки заказов</td>\n",
       "                        <td id=\"T_507993a2_3154_11eb_a355_d05099577cf8row6_col1\" class=\"data row6 col1\" >2</td>\n",
       "                        <td id=\"T_507993a2_3154_11eb_a355_d05099577cf8row6_col2\" class=\"data row6 col2\" >5</td>\n",
       "                        <td id=\"T_507993a2_3154_11eb_a355_d05099577cf8row6_col3\" class=\"data row6 col3\" >4</td>\n",
       "                        <td id=\"T_507993a2_3154_11eb_a355_d05099577cf8row6_col4\" class=\"data row6 col4\" >10</td>\n",
       "                        <td id=\"T_507993a2_3154_11eb_a355_d05099577cf8row6_col5\" class=\"data row6 col5\" >2</td>\n",
       "                        <td id=\"T_507993a2_3154_11eb_a355_d05099577cf8row6_col6\" class=\"data row6 col6\" >4</td>\n",
       "            </tr>\n",
       "            <tr>\n",
       "                        <th id=\"T_507993a2_3154_11eb_a355_d05099577cf8level0_row7\" class=\"row_heading level0 row7\" >5</th>\n",
       "                        <td id=\"T_507993a2_3154_11eb_a355_d05099577cf8row7_col0\" class=\"data row7 col0\" >Добавить страницу отзывов клиентов о магазине, что позволит увеличить количество заказов</td>\n",
       "                        <td id=\"T_507993a2_3154_11eb_a355_d05099577cf8row7_col1\" class=\"data row7 col1\" >3</td>\n",
       "                        <td id=\"T_507993a2_3154_11eb_a355_d05099577cf8row7_col2\" class=\"data row7 col2\" >2</td>\n",
       "                        <td id=\"T_507993a2_3154_11eb_a355_d05099577cf8row7_col3\" class=\"data row7 col3\" >2</td>\n",
       "                        <td id=\"T_507993a2_3154_11eb_a355_d05099577cf8row7_col4\" class=\"data row7 col4\" >3</td>\n",
       "                        <td id=\"T_507993a2_3154_11eb_a355_d05099577cf8row7_col5\" class=\"data row7 col5\" >1</td>\n",
       "                        <td id=\"T_507993a2_3154_11eb_a355_d05099577cf8row7_col6\" class=\"data row7 col6\" >4</td>\n",
       "            </tr>\n",
       "            <tr>\n",
       "                        <th id=\"T_507993a2_3154_11eb_a355_d05099577cf8level0_row8\" class=\"row_heading level0 row8\" >4</th>\n",
       "                        <td id=\"T_507993a2_3154_11eb_a355_d05099577cf8row8_col0\" class=\"data row8 col0\" >Изменить цвет фона главной страницы, чтобы увеличить вовлеченность пользователей</td>\n",
       "                        <td id=\"T_507993a2_3154_11eb_a355_d05099577cf8row8_col1\" class=\"data row8 col1\" >3</td>\n",
       "                        <td id=\"T_507993a2_3154_11eb_a355_d05099577cf8row8_col2\" class=\"data row8 col2\" >1</td>\n",
       "                        <td id=\"T_507993a2_3154_11eb_a355_d05099577cf8row8_col3\" class=\"data row8 col3\" >1</td>\n",
       "                        <td id=\"T_507993a2_3154_11eb_a355_d05099577cf8row8_col4\" class=\"data row8 col4\" >1</td>\n",
       "                        <td id=\"T_507993a2_3154_11eb_a355_d05099577cf8row8_col5\" class=\"data row8 col5\" >1</td>\n",
       "                        <td id=\"T_507993a2_3154_11eb_a355_d05099577cf8row8_col6\" class=\"data row8 col6\" >3</td>\n",
       "            </tr>\n",
       "    </tbody></table>"
      ],
      "text/plain": [
       "<pandas.io.formats.style.Styler at 0x14e410d5a08>"
      ]
     },
     "execution_count": 6,
     "metadata": {},
     "output_type": "execute_result"
    }
   ],
   "source": [
    "hypothesis['rice']=(hypothesis['reach']*hypothesis['impact']*hypothesis['confidence'])/hypothesis['efforts']\n",
    "hypothesis['ice']=hypothesis['ice'].astype('int')\n",
    "hypothesis['rice']=hypothesis['rice'].astype('int')\n",
    "#display(hypothesis.sort_values(by='rice',ascending=False), pd.set_option('display.max_columns', None))\n",
    "#pd.options.display.max_colwidth = 150\n",
    "cm = sns.light_palette(\"green\", as_cmap=True)\n",
    "s = hypothesis.sort_values(by='rice',ascending=False).style.background_gradient(cmap=cm)\n",
    "s"
   ]
  },
  {
   "cell_type": "markdown",
   "metadata": {},
   "source": [
    "## Часть 1. Вывод <a id='conclusion1'></a>"
   ]
  },
  {
   "cell_type": "markdown",
   "metadata": {},
   "source": [
    "При применении метода ICE(влияние, уверенность, усилия) наиболее приоритетными были гипотезы \"Запустить акцию, дающую скидку на товар в день рождения\", \"Добавить два новых канала привлечения трафика, что позволит привлекать на 30% больше пользователей\" и \"Добавить форму подписки на все основные страницы, чтобы собрать базу клиентов для email-рассылок\". При применении метода RICE(влияние, уверенность, усилия, охват) наиболее приоритетными оказались гипотезы \"Добавить форму подписки на все основные страницы, чтобы собрать базу клиентов для email-рассылок\", \"Добавить блоки рекомендаций товаров на сайт интернет магазина, чтобы повысить конверсию и средний чек заказа\", \"Добавить два новых канала привлечения трафика, что позволит привлекать на 30% больше пользователей\" и \"Показать на главной странице баннеры с актуальными акциями и распродажами, чтобы увеличить конверсию\"(последние две гипотезы имеют одинаковое значение rice). Рассмотрим полученные результаты более подробно. Гипотеза \"Добавить форму подписки на все основные страницы, чтобы собрать базу клиентов для email-рассылок\" по фрейморку ICE находится на 3 месте, а по фреймворку RICE - 1м месте, очевидно, что изменения, которые возникнут при реализации на практике данной гипотезы затронут наибольшее количество пользователей из-за чего по фреймфорку RICE данная гипотеза \"обошла\" гипотезы \"Запустить акцию, дающую скидку на товар в день рождения\" и \"Добавить два новых канала привлечения трафика, что позволит привлекать на 30% больше пользователей\". Очевидно, по причине большого охвата гипотеза \"Показать на главной странице баннеры с актуальными акциями и распродажами, чтобы увеличить конверсию\" \"догнала\" гипотезу \"Добавить два новых канала привлечения трафика, что позволит привлекать на 30% больше пользователей\" по фреймворку RICE."
   ]
  },
  {
   "cell_type": "markdown",
   "metadata": {},
   "source": [
    "## Часть 2. Анализ А/В-теста <a id='part2'></a>"
   ]
  },
  {
   "cell_type": "markdown",
   "metadata": {},
   "source": [
    "#### Построение графиков кумулятивной выручки по группам <a id='cum_rev'></a>"
   ]
  },
  {
   "cell_type": "code",
   "execution_count": 7,
   "metadata": {},
   "outputs": [
    {
     "data": {
      "image/png": "[encoded data removed]",
      "text/plain": [
       "<Figure size 1440x360 with 1 Axes>"
      ]
     },
     "metadata": {
      "needs_background": "light"
     },
     "output_type": "display_data"
    }
   ],
   "source": [
    "#массив уникальных пар значений дат и групп теста\n",
    "datesGroups=orders[['date','group']].drop_duplicates()\n",
    "#агрегированные кумулятивные по дням данные о заказах\n",
    "ordersAggregated = datesGroups.apply(lambda x: orders[np.logical_and(orders['date'] <=\n",
    "x['date'], orders['group'] == x['group'])].agg({'date' : 'max', 'group' : 'max',\n",
    "'transactionid': pd.Series.nunique, 'visitorid' : pd.Series.nunique, 'revenue' : 'sum'}),\n",
    "axis=1).sort_values(by=['date','group'])\n",
    "#агрегированные кумулятивные по дням данные о посетителях интернет-магазина\n",
    "visitorsAggregated = datesGroups.apply(lambda x: visitors[np.logical_and(visitors['date']\n",
    "<= x['date'], visitors['group'] == x['group'])].agg({'date' : 'max', 'group' : 'max',\n",
    "'visitors' : 'sum'}), axis=1).sort_values(by=['date','group'])\n",
    "# объединение кумулятивных данные в одной таблице\n",
    "cummulativeData = ordersAggregated.merge(visitorsAggregated, left_on=['date', 'group'],\n",
    "right_on=['date', 'group'])\n",
    "cummulativeData.columns = ['date', 'group', 'orders', 'buyers', 'revenue', 'visitors']\n",
    "#датафрейм с кумулятивным количеством заказов и кумулятивной выручкой по дням в группе А\n",
    "cummulativeRevenueA = cummulativeData[cummulativeData['group']=='A'][['date','revenue', 'orders']]\n",
    "# датафрейм с кумулятивным количеством заказов и кумулятивной выручкой по дням в группе B\n",
    "cummulativeRevenueB = cummulativeData[cummulativeData['group']=='B'][['date','revenue', 'orders']]\n",
    "plt.figure(figsize=(20,5))\n",
    "# график выручки группы А\n",
    "plt.plot(cummulativeRevenueA['date'], cummulativeRevenueA['revenue'], label='A')\n",
    "# график выручки группы B\n",
    "plt.plot(cummulativeRevenueB['date'], cummulativeRevenueB['revenue'], label='B')\n",
    "plt.legend()\n",
    "plt.title('график кумулятивной выручки по группам')\n",
    "plt.xlabel('дата')\n",
    "plt.ylabel('величина кумулятивной выручки')\n",
    "plt.show()"
   ]
  },
  {
   "cell_type": "markdown",
   "metadata": {},
   "source": [
    "График показывает, что кумулятивная выручка группы В в первой половине теста немного превосходит кумулятивную выручку группы А, а во второй половине - становится значительно выше. Можно сделать вывод, что группа В стабильно лучше, чем группа А."
   ]
  },
  {
   "cell_type": "markdown",
   "metadata": {},
   "source": [
    "#### Построение графиков кумулятивного среднего чека по группам <a id='cum_check'></a>"
   ]
  },
  {
   "cell_type": "code",
   "execution_count": 8,
   "metadata": {},
   "outputs": [
    {
     "data": {
      "image/png": "[encoded data removed]",
      "text/plain": [
       "<Figure size 1440x360 with 1 Axes>"
      ]
     },
     "metadata": {
      "needs_background": "light"
     },
     "output_type": "display_data"
    }
   ],
   "source": [
    "plt.figure(figsize=(20,5))\n",
    "#график кумулятивного среднего чека группы А\n",
    "plt.plot(cummulativeRevenueA['date'], cummulativeRevenueA['revenue']/cummulativeRevenueA['orders'], label='A')\n",
    "#график кумулятивного среднего чека группы В\n",
    "plt.plot(cummulativeRevenueB['date'], cummulativeRevenueB['revenue']/cummulativeRevenueB['orders'], label='B')\n",
    "plt.legend()\n",
    "plt.title('График кумулятивного среднего чека по группам')\n",
    "plt.xlabel('дата')\n",
    "plt.ylabel('величина кумулятивного среднего чека')\n",
    "plt.show()"
   ]
  },
  {
   "cell_type": "markdown",
   "metadata": {},
   "source": [
    "На графике можно видеть, что показатель кумулятивного среднего чека группы В почти на протяжении всего теста значительно выше, чем группы А, за исключением первых дней теста и нескольких дней по окончании трети времени теста, когда можно наблюдать резкий скачок в группе А. На основании приведенного графика можно сделать вывод, что, в основном, кумулятивный средний чек группы В значительно превосходит кумулятивный средний чек группы А."
   ]
  },
  {
   "cell_type": "markdown",
   "metadata": {},
   "source": [
    "#### Построение графика относительного изменения кумулятивного среднего чека группы В к группе А <a id='cum_check2'></a>"
   ]
  },
  {
   "cell_type": "code",
   "execution_count": 9,
   "metadata": {},
   "outputs": [
    {
     "data": {
      "image/png": "[encoded data removed]",
      "text/plain": [
       "<Figure size 1440x360 with 1 Axes>"
      ]
     },
     "metadata": {
      "needs_background": "light"
     },
     "output_type": "display_data"
    }
   ],
   "source": [
    "plt.figure(figsize=(20,5))\n",
    "# сбор данных в одном датафрейме\n",
    "mergedCummulativeRevenue = cummulativeRevenueA.merge(cummulativeRevenueB, left_on='date',\n",
    "right_on='date', how='left', suffixes=['A', 'B'])\n",
    "\n",
    "plt.plot(mergedCummulativeRevenue['date'], (\n",
    "    mergedCummulativeRevenue['revenueB']/mergedCummulativeRevenue['ordersB'])/(\n",
    "    mergedCummulativeRevenue['revenueA']/mergedCummulativeRevenue['ordersA'])-1)\n",
    "\n",
    "plt.axhline(y=0, color='black', linestyle='--')\n",
    "plt.title('График относительного прироста кумулятивного среднего чека группы В к группе А')\n",
    "plt.xlabel('дата')\n",
    "plt.ylabel('величина относительного прироста')\n",
    "plt.show()"
   ]
  },
  {
   "cell_type": "markdown",
   "metadata": {},
   "source": [
    "В нескольких точках график различия сильно \"скачет\", что может говорить о крупных заказах."
   ]
  },
  {
   "cell_type": "markdown",
   "metadata": {},
   "source": [
    "#### Построение графика кумулятивной конверсии по группам <a id='cum_conv'></a>"
   ]
  },
  {
   "cell_type": "code",
   "execution_count": 10,
   "metadata": {},
   "outputs": [
    {
     "data": {
      "image/png": "[encoded data removed]",
      "text/plain": [
       "<Figure size 1440x360 with 1 Axes>"
      ]
     },
     "metadata": {
      "needs_background": "light"
     },
     "output_type": "display_data"
    }
   ],
   "source": [
    "#кумулятивная конверсия\n",
    "cummulativeData['conversion']=cummulativeData['orders']/cummulativeData['visitors']\n",
    "#разделение данных по группам\n",
    "cummulativeDataA=cummulativeData[cummulativeData['group']=='A']\n",
    "cummulativeDataB=cummulativeData[cummulativeData['group']=='B']\n",
    "plt.figure(figsize=(20,5))\n",
    "plt.plot(cummulativeDataA['date'], cummulativeDataA['conversion'],label='A')\n",
    "plt.plot(cummulativeDataB['date'], cummulativeDataB['conversion'],label='B')\n",
    "plt.legend()\n",
    "plt.title('График кумулятивной конверсии по группам')\n",
    "plt.xlabel('дата')\n",
    "plt.ylabel('величина кумулятивной конверсии')\n",
    "plt.show()"
   ]
  },
  {
   "cell_type": "markdown",
   "metadata": {},
   "source": [
    "Можно видеть, что график симметричный и значения конверсий обеих групп с некоторым допущением зафиксировались. График демонстрирует, что конверсия группы В значительно превосходит конверсию группы А на протяжении всей второй половины времени теста."
   ]
  },
  {
   "cell_type": "markdown",
   "metadata": {},
   "source": [
    "#### Построение графика относительного изменения кумулятивной конверсии по группам <a id='cum_conv2'></a>"
   ]
  },
  {
   "cell_type": "code",
   "execution_count": 11,
   "metadata": {},
   "outputs": [
    {
     "data": {
      "image/png": "[encoded data removed]",
      "text/plain": [
       "<Figure size 1440x360 with 1 Axes>"
      ]
     },
     "metadata": {
      "needs_background": "light"
     },
     "output_type": "display_data"
    }
   ],
   "source": [
    "plt.figure(figsize=(20,5))\n",
    "#сбор данных в одном датафрейме\n",
    "mergedCumulativeConversions=cummulativeDataA[['date','conversion']].merge(\n",
    "    cummulativeDataB[['date','conversion']], left_on='date',right_on='date',how='left', suffixes=['A','B'])\n",
    "#построение графиков\n",
    "plt.plot(mergedCumulativeConversions['date'], \n",
    "         mergedCumulativeConversions['conversionB']/mergedCumulativeConversions['conversionA']-1)\n",
    "plt.title(\"Относительный прирост конверсии группы В относительно группы А\")\n",
    "plt.axhline(y=0, color='black', linestyle='--')\n",
    "plt.axhline(y=0.1, color='grey', linestyle='--')\n",
    "plt.xlabel('дата')\n",
    "plt.ylabel('величина относительного прироста конверсии')\n",
    "plt.show()"
   ]
  },
  {
   "cell_type": "markdown",
   "metadata": {},
   "source": [
    "В начале теста конверсия группы В стремительно росла, затем был зафиксирован резкое падение и быстрое возвращение к уверенному росту. Можно сделать вывод, что на протяжении 75% времени теста конверсия группы В непрерывно значительно превосходила конверсию группы А."
   ]
  },
  {
   "cell_type": "markdown",
   "metadata": {},
   "source": [
    "#### Построение точечного графика  количества заказов по пользователям <a id='point_orders'></a>"
   ]
  },
  {
   "cell_type": "code",
   "execution_count": 12,
   "metadata": {},
   "outputs": [
    {
     "data": {
      "text/plain": [
       "<matplotlib.collections.PathCollection at 0x14e41527048>"
      ]
     },
     "execution_count": 12,
     "metadata": {},
     "output_type": "execute_result"
    },
    {
     "data": {
      "image/png": "[encoded data removed]",
      "text/plain": [
       "<Figure size 432x288 with 1 Axes>"
      ]
     },
     "metadata": {
      "needs_background": "light"
     },
     "output_type": "display_data"
    }
   ],
   "source": [
    "#группировка данных о количествах заказов по пользователям\n",
    "ordersByUsers = orders.drop(['group', 'revenue', 'date'], axis=1).groupby(\n",
    "    'visitorid', as_index=False).agg({'transactionid' : pd.Series.nunique})\n",
    "ordersByUsers.columns = ['userId','orders']\n",
    "x_values = pd.Series(range(0,len(ordersByUsers)))\n",
    "plt.scatter(x_values, ordersByUsers['orders']) "
   ]
  },
  {
   "cell_type": "markdown",
   "metadata": {},
   "source": [
    "На графике можно видеть, что чаще всего пользователи делали 1-2 заказа."
   ]
  },
  {
   "cell_type": "markdown",
   "metadata": {},
   "source": [
    "#### Расчет 95-й и 99-й перцентилей количества заказов на пользователя <a id='user95'></a>"
   ]
  },
  {
   "cell_type": "code",
   "execution_count": 13,
   "metadata": {},
   "outputs": [
    {
     "name": "stdout",
     "output_type": "stream",
     "text": [
      "[2. 4.]\n"
     ]
    }
   ],
   "source": [
    "print(np.percentile(ordersByUsers['orders'], [95, 99])) "
   ]
  },
  {
   "cell_type": "markdown",
   "metadata": {},
   "source": [
    "Не более 5% пользователей оформляли больше, чем 2 заказа и 1% пользователей оформлял 4 и более заказов."
   ]
  },
  {
   "cell_type": "markdown",
   "metadata": {},
   "source": [
    "#### Построение точечного графика стоимостей заказов. <a id='point_rev'></a>"
   ]
  },
  {
   "cell_type": "code",
   "execution_count": 14,
   "metadata": {},
   "outputs": [
    {
     "data": {
      "image/png": "[encoded data removed]",
      "text/plain": [
       "<Figure size 432x288 with 1 Axes>"
      ]
     },
     "metadata": {
      "needs_background": "light"
     },
     "output_type": "display_data"
    },
    {
     "data": {
      "image/png": "[encoded data removed]",
      "text/plain": [
       "<Figure size 432x288 with 1 Axes>"
      ]
     },
     "metadata": {
      "needs_background": "light"
     },
     "output_type": "display_data"
    }
   ],
   "source": [
    "x_values = pd.Series(range(0,len(orders['revenue'])))\n",
    "plt.scatter(x_values, orders['revenue']) \n",
    "plt.show()\n",
    "plt.hist(orders['revenue'], bins=100, range=(0,60000))\n",
    "plt.show()"
   ]
  },
  {
   "cell_type": "markdown",
   "metadata": {},
   "source": [
    "Из графиков можно видеть, что большая часть пользователей совершала заказы стоимостью до 20000, есть единичные заказы стоимостью 200000 и более 1200000."
   ]
  },
  {
   "cell_type": "markdown",
   "metadata": {},
   "source": [
    "#### Вычисление 95-й и 99-й перцентилей стоимости заказов <a id='rev95'></a>"
   ]
  },
  {
   "cell_type": "code",
   "execution_count": 15,
   "metadata": {},
   "outputs": [
    {
     "name": "stdout",
     "output_type": "stream",
     "text": [
      "[18168.  28000.  58233.2]\n"
     ]
    }
   ],
   "source": [
    "print(np.percentile(orders['revenue'], [90, 95, 99])) "
   ]
  },
  {
   "cell_type": "markdown",
   "metadata": {},
   "source": [
    "Расчет 90, 95 и 99 перцентилей подтвержадает данные, представленные на графиках: не более 10% пользователей совершали заказы на сумму выше 18168, не более 5% пользователей-на сумму выше 28000 и до 1% пользователей - на сумму выше 58233.2."
   ]
  },
  {
   "cell_type": "markdown",
   "metadata": {},
   "source": [
    "#### Расчет статистической значимости различий в конверсии между группами по «сырым» данным <a id='sample'></a>"
   ]
  },
  {
   "cell_type": "markdown",
   "metadata": {},
   "source": [
    "Для выяснения статистической значимости различий в конверсии между группами по \"сырым\" данным проверим гипотезу.  \n",
    "Нулевая гипотеза: статистически значимых различий в конверсии между группами нет.  \n",
    "Обратная гипотеза: статистически значимые различия в конверсии между группами есть."
   ]
  },
  {
   "cell_type": "code",
   "execution_count": 16,
   "metadata": {},
   "outputs": [
    {
     "name": "stdout",
     "output_type": "stream",
     "text": [
      "0.008\n",
      "0.138\n"
     ]
    }
   ],
   "source": [
    "#выделение количества пользователей по дням в группе А\n",
    "visitorsADaily = visitors[visitors['group']=='A'][['date', 'visitors']]\n",
    "visitorsADaily.columns = ['date', 'visitorsPerDateA']\n",
    "#выделение количества пользователей до определенной даты включительно в группе А\n",
    "visitorsACummulative = visitorsADaily.apply(\n",
    "    lambda x: visitorsADaily[visitorsADaily['date'] <= x['date']]\n",
    "    .agg({'date' : 'max', 'visitorsPerDateA' : 'sum'}), axis=1)\n",
    "visitorsACummulative.columns = ['date', 'visitorsCummulativeA']\n",
    "#выделение количества пользователей по дням в группе В\n",
    "visitorsBDaily = visitors[visitors['group']=='B'][['date', 'visitors']]\n",
    "visitorsBDaily.columns = ['date', 'visitorsPerDateB']\n",
    "#выделение количества пользователей до определенной даты включительно в группе В\n",
    "visitorsBCummulative = visitorsBDaily.apply(\n",
    "    lambda x: visitorsBDaily[visitorsBDaily['date'] <= x['date']]\n",
    "    .agg({'date' : 'max', 'visitorsPerDateB' : 'sum'}), axis=1)\n",
    "visitorsBCummulative.columns = ['date', 'visitorsCummulativeB']\n",
    "#выделение количества заказов по дням в группе А\n",
    "ordersADaily = orders[orders['group']=='A'][['date', 'transactionid', 'visitorid', 'revenue']].groupby(\n",
    "    'date', as_index=False).agg({'transactionid' : pd.Series.nunique, 'revenue' : 'sum'})\n",
    "ordersADaily.columns = ['date', 'ordersPerDateA', 'revenuePerDateA']\n",
    "#выделение суммарного количества заказов до определенной даты включительно в группе А\n",
    "ordersACummulative = ordersADaily.apply(\n",
    "    lambda x:ordersADaily[ordersADaily['date'] <= x['date']]\n",
    "    .agg({'date' : 'max','ordersPerDateA' : 'sum','revenuePerDateA' : 'sum'}), axis=1).sort_values(by=['date'])\n",
    "ordersACummulative.columns = ['date', 'ordersCummulativeA', 'revenueCummulativeA']\n",
    "#выделение количества заказов по дням в группе В\n",
    "ordersBDaily = orders[orders['group']=='B'][['date', 'transactionid', 'visitorid', 'revenue']].groupby(\n",
    "    'date', as_index=False).agg({'transactionid' : pd.Series.nunique, 'revenue' : 'sum'})\n",
    "ordersBDaily.columns = ['date', 'ordersPerDateB', 'revenuePerDateB']\n",
    "#выделение суммарного количества заказов до определенной даты включительно в группе В\n",
    "ordersBCummulative = ordersBDaily.apply(\n",
    "    lambda x: \n",
    "        ordersBDaily[ordersBDaily['date'] <= x['date']]\n",
    "            .agg({\n",
    "                'date' : 'max',\n",
    "                'ordersPerDateB' : 'sum',\n",
    "                'revenuePerDateB' : 'sum'}), axis=1).sort_values(by=['date'])\n",
    "ordersBCummulative.columns = ['date', 'ordersCummulativeB', 'revenueCummulativeB']\n",
    "#объединение данных в один датафрейм\n",
    "data = ordersADaily.merge(ordersBDaily, left_on='date', right_on='date', how='left').merge(\n",
    "    ordersACummulative, left_on='date', right_on='date', how='left').merge(\n",
    "    ordersBCummulative, left_on='date', right_on='date', how='left').merge(\n",
    "    visitorsADaily, left_on='date', right_on='date', how='left').merge(\n",
    "    visitorsBDaily, left_on='date', right_on='date', how='left').merge(\n",
    "    visitorsACummulative, left_on='date', right_on='date', how='left').merge(\n",
    "    visitorsBCummulative, left_on='date', right_on='date', how='left')\n",
    "#группировка информации о заказах, совершенных клиентами из группы А\n",
    "ordersByUsersA = orders[orders['group']=='A'].groupby('visitorid', as_index=False).agg({'transactionid' : pd.Series.nunique})\n",
    "ordersByUsersA.columns = ['userId', 'orders']\n",
    "#группировка информации о заказах, совершенных клиентами из группы В\n",
    "ordersByUsersB = orders[orders['group']=='B'].groupby('visitorid', as_index=False).agg({'transactionid' : pd.Series.nunique})\n",
    "ordersByUsersB.columns = ['userId', 'orders'] \n",
    "pd.Series(0, index=np.arange(data['visitorsPerDateA'].sum() - len(ordersByUsersA['orders'])), name='orders')\n",
    "#создание выборки соотвествия количества заказов для определенного пользователя группы А\n",
    "sampleA = pd.concat([ordersByUsersA['orders'],pd.Series(\n",
    "    0, index=np.arange(data['visitorsPerDateA'].sum() - len(ordersByUsersA['orders'])), name='orders')],axis=0)\n",
    "#создание выборки соотвествия количества заказов для определенного пользователя группы В\n",
    "sampleB = pd.concat([ordersByUsersB['orders'],pd.Series(\n",
    "    0, index=np.arange(data['visitorsPerDateB'].sum() - len(ordersByUsersB['orders'])), name='orders')],axis=0) \n",
    "print(\"{0:.3f}\".format(stats.mannwhitneyu(sampleA, sampleB)[1]))\n",
    "print(\"{0:.3f}\".format(sampleB.mean()/sampleA.mean()-1)) "
   ]
  },
  {
   "cell_type": "markdown",
   "metadata": {},
   "source": [
    "Первое число — p-value = 0.008  меньше 0.05. Значит, нулевую гипотезу о том, что статистически значимых различий в конверсии между группами нет, отвергаем. Относительный выигрыш группы В = 13.8%."
   ]
  },
  {
   "cell_type": "markdown",
   "metadata": {},
   "source": [
    "#### Расчет статистической значимости различий в среднем чеке заказа между группами по «сырым» данным <a id='sample2'></a>"
   ]
  },
  {
   "cell_type": "code",
   "execution_count": 17,
   "metadata": {},
   "outputs": [
    {
     "name": "stdout",
     "output_type": "stream",
     "text": [
      "0.365\n",
      "0.259\n"
     ]
    }
   ],
   "source": [
    "print(\"{0:.3f}\".format(stats.mannwhitneyu(\n",
    "    orders[orders['group']=='A']['revenue'],orders[orders['group']=='B']['revenue'])[1]))\n",
    "print(\"{0:.3f}\".format(\n",
    "    orders[orders['group']=='B']['revenue'].mean()/orders[orders['group']=='A']['revenue'].mean()-1)) "
   ]
  },
  {
   "cell_type": "markdown",
   "metadata": {},
   "source": [
    "p-value=0.365, что значительно больше 0.05. Значит, нулевую гипотезу о том, что статистически значимых различий в среднем чеке заказа между группами нет, не отвергаем. Средний чек группы В значительно выше среднего чека группы А (25.9%)."
   ]
  },
  {
   "cell_type": "markdown",
   "metadata": {},
   "source": [
    "#### Расчет статистической значимости различий в конверсии между группами по \"очищенным\" данным <a id='clean'></a>"
   ]
  },
  {
   "cell_type": "markdown",
   "metadata": {},
   "source": [
    "Как было выяснено ранее, не более 5% пользователей оформляли больше, чем 2 заказа, и на сумму выше 28000 и 1% пользователей оформлял 4 и более заказов и на сумму выше 58233.2. Исходя из этой информации, для \"очистки\" данных от аномальных выбросов следует убрать данные о пользователях, совершивших слишком большое количество заказов(в данном случае больше 2) и/или совершивших слишком дорогие заказы(в данном случае дороже 30000)."
   ]
  },
  {
   "cell_type": "code",
   "execution_count": 18,
   "metadata": {},
   "outputs": [
    {
     "name": "stdout",
     "output_type": "stream",
     "text": [
      "1099    148427295\n",
      "18      199603092\n",
      "928     204675465\n",
      "23      237748145\n",
      "37      249864742\n",
      "dtype: int64\n",
      "Аномальных заказов:  74\n",
      "Что составляет 6.2% от всех заказов\n"
     ]
    }
   ],
   "source": [
    "#выделение клиентов, совершивших слишком много заказов\n",
    "usersWithManyOrders=pd.concat([ordersByUsersA[ordersByUsersA['orders']>2]['userId'],ordersByUsersB[ordersByUsersB['orders']>2]['userId']],axis=0)\n",
    "#выделение клиентов, совершивших слишком дорогие заказы\n",
    "usersWithExpensiveOrders=orders[orders['revenue']>28000]['visitorid']\n",
    "#объединение \"очищенных\" данных\n",
    "abnormalUsers=pd.concat([usersWithManyOrders,usersWithExpensiveOrders], axis=0).drop_duplicates().sort_values()\n",
    "x=abnormalUsers.shape\n",
    "y=orders.shape\n",
    "print(abnormalUsers.head())\n",
    "print(\"Аномальных заказов: \", len(abnormalUsers))\n",
    "print(\"Что составляет {:.1%} от всех заказов\".format(len(abnormalUsers)/len(orders)))"
   ]
  },
  {
   "cell_type": "markdown",
   "metadata": {},
   "source": [
    "74 аномальных заказа из 1197, что составляет около 6.2%"
   ]
  },
  {
   "cell_type": "code",
   "execution_count": 19,
   "metadata": {},
   "outputs": [
    {
     "name": "stdout",
     "output_type": "stream",
     "text": [
      "0.007\n",
      "0.173\n"
     ]
    }
   ],
   "source": [
    "#создание выборки \"очищенных\" данных соотвествия количества заказов для определенного пользователя группы А\n",
    "sampleAFiltered=pd.concat([ordersByUsersA[np.logical_not(ordersByUsersA['userId'].isin(abnormalUsers))]['orders'],pd.Series(0, \n",
    "index=np.arange(data['visitorsPerDateA'].sum()-len(ordersByUsersA['orders'])),name='orders')],axis=0)\n",
    "#создание выборки \"очищенных\" данных соотвествия количества заказов для определенного пользователя группы А\n",
    "sampleBFiltered=pd.concat([ordersByUsersB[np.logical_not(ordersByUsersB['userId'].isin(abnormalUsers))]['orders'],pd.Series(0, \n",
    "index=np.arange(data['visitorsPerDateB'].sum()-len(ordersByUsersB['orders'])),name='orders')],axis=0)\n",
    "print(\"{0:.3f}\".format(stats.mannwhitneyu(sampleAFiltered, sampleBFiltered)[1]))\n",
    "print(\"{0:.3f}\".format(sampleBFiltered.mean()/sampleAFiltered.mean()-1)) "
   ]
  },
  {
   "cell_type": "markdown",
   "metadata": {},
   "source": [
    "Результаты расчета статистической значимости различий в конверсии между группами по «сырым» данным и очищенным данным почти одинаковы."
   ]
  },
  {
   "cell_type": "markdown",
   "metadata": {},
   "source": [
    "#### Расчет статистической значимости различий в среднем чеке заказа между группами по \"очищенным\" данным <a id='clean2'></a>"
   ]
  },
  {
   "cell_type": "code",
   "execution_count": 20,
   "metadata": {},
   "outputs": [
    {
     "name": "stdout",
     "output_type": "stream",
     "text": [
      "0.369\n",
      "-0.020\n"
     ]
    }
   ],
   "source": [
    "print(\"{0:.3f}\".format(stats.mannwhitneyu(orders[np.logical_and(orders['group']=='A',np.logical_not(orders['visitorid'].isin(abnormalUsers)))]['revenue'],\n",
    "                                         orders[np.logical_and(orders['group']=='B',np.logical_not(orders['visitorid'].isin(abnormalUsers)))]['revenue'])[1]))\n",
    "print(\"{0:.3f}\".format(orders[np.logical_and(orders['group']=='B',np.logical_not(orders['visitorid'].isin(abnormalUsers)))]['revenue'].mean()/\n",
    "                       orders[np.logical_and(orders['group']=='A',np.logical_not(orders['visitorid'].isin(abnormalUsers)))]['revenue'].mean()-1)) "
   ]
  },
  {
   "cell_type": "markdown",
   "metadata": {},
   "source": [
    "P-value практически не изменился по сравнению с расчетами по \"сырым\" данным, но разница между сегментами изменилась: теперь средний чек группы В примерно на 2% ниже среднего чека группы А. "
   ]
  },
  {
   "cell_type": "markdown",
   "metadata": {},
   "source": [
    "### Часть 2. Вывод <a id='conclusion2'></a>"
   ]
  },
  {
   "cell_type": "markdown",
   "metadata": {},
   "source": [
    "**1** Есть статистически значимое различие по конверсии между группами по сырым данным и после фильтрации  \n",
    "**2** Нет статистически значимого различия по среднему чеку между группами по сырым данным и после фильтрации  \n",
    "**3** График различия конверсии между группами сообщает, что результаты группы В лучше, чем группы А: зафиксировались в некотором диапазоне и имеют небольшую тенденцию к росту  \n",
    "**4** График различия среднего чека между группами колеблется, что позволило выявить аномально дорогие заказы  \n",
    "**Вывод** тест можно остановить, группа В статистически лучше группы А, а график конверсии указывает на фиксацию результата."
   ]
  },
  {
   "cell_type": "markdown",
   "metadata": {},
   "source": [
    "#### Примечание"
   ]
  },
  {
   "cell_type": "markdown",
   "metadata": {},
   "source": [
    "Разница в среднем чеке заказа по сырым и отфильтрованным данным может указывать на то, что клиенты начали совершать покупки чаще, но на меньшие суммы. Для уточнения результатов рекомендуется провести анализ наиболее популярных категорий и наименований товаров."
   ]
  },
  {
   "cell_type": "markdown",
   "metadata": {},
   "source": [
    "## Вывод <a id='conclusion'></a>"
   ]
  },
  {
   "cell_type": "markdown",
   "metadata": {},
   "source": [
    "**1** При применении метода ICE(влияние, уверенность, усилия) наиболее приоритетными были гипотезы \"Запустить акцию, дающую скидку на товар в день рождения\", \"Добавить два новых канала привлечения трафика, что позволит привлекать на 30% больше пользователей\" и \"Добавить форму подписки на все основные страницы, чтобы собрать базу клиентов для email-рассылок\". При применении метода RICE(влияние, уверенность, усилия, охват) наиболее приоритетными оказались гипотезы \"Добавить форму подписки на все основные страницы, чтобы собрать базу клиентов для email-рассылок\", \"Добавить блоки рекомендаций товаров на сайт интернет магазина, чтобы повысить конверсию и средний чек заказа\", \"Добавить два новых канала привлечения трафика, что позволит привлекать на 30% больше пользователей\" и \"Показать на главной странице баннеры с актуальными акциями и распродажами, чтобы увеличить конверсию\"(последние две гипотезы имеют одинаковое значение rice), что указывает на то, что реализация данных гипотез на практике затронет наибольшее количество пользователей.  \n",
    "**2** Тест можно остановить, группа В статистически лучше группы А, а график конверсии указывает на фиксацию результата.  \n",
    "**Примечание**  Разница в среднем чеке заказа по сырым и отфильтрованным данным может указывать на то, что клиенты начали совершать покупки чаще, но на меньшие суммы. Для уточнения результатов рекомендуется провести анализ наиболее популярных категорий и наименований товаров."
   ]
  }
 ],
 "metadata": {
  "kernelspec": {
   "display_name": "Python 3",
   "language": "python",
   "name": "python3"
  },
  "language_info": {
   "codemirror_mode": {
    "name": "ipython",
    "version": 3
   },
   "file_extension": ".py",
   "mimetype": "text/x-python",
   "name": "python",
   "nbconvert_exporter": "python",
   "pygments_lexer": "ipython3",
   "version": "3.7.6"
  }
 },
 "nbformat": 4,
 "nbformat_minor": 4
}
